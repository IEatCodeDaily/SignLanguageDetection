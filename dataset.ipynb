{
 "cells": [
  {
   "cell_type": "code",
   "execution_count": 1,
   "metadata": {},
   "outputs": [],
   "source": [
    "import tensorflow as tf\n",
    "from tensorflow import keras\n",
    "from keras.models import Sequential\n",
    "from keras.layers import Activation, Dense, Flatten, BatchNormalization, Conv2D, MaxPool2D, Dropout\n",
    "from keras.optimizers import Adam, SGD\n",
    "from keras.metrics import categorical_crossentropy\n",
    "from keras.preprocessing.image import ImageDataGenerator\n",
    "import numpy as np\n",
    "import cv2\n",
    "from keras.callbacks import ReduceLROnPlateau\n",
    "from keras.callbacks import ModelCheckpoint, EarlyStopping\n"
   ]
  },
  {
   "cell_type": "code",
   "execution_count": 26,
   "metadata": {},
   "outputs": [],
   "source": [
    "def main(letter):\n",
    "  cam = cv2.VideoCapture(2)\n",
    "  num_frames = 0\n",
    "  element = 10\n",
    "  num_imgs_taken = 0\n",
    "  kernel = np.ones((2,2),np.uint8)\n",
    "\n",
    "  if not cam.isOpened():\n",
    "    print (\"Could not open cam\")\n",
    "    exit()\n",
    "\n",
    "  temp = 0\n",
    "  num_frames = 0\n",
    "\n",
    "  while(1):\n",
    "    \n",
    "    ret, frame = cam.read()\n",
    "    if ret:\n",
    "      key = cv2.waitKey(1)\n",
    "      frame = cv2.flip(frame,1)\n",
    "      ROI = frame[0:300, 170:470]\n",
    "      \n",
    "      gray_frame = cv2.cvtColor(ROI, cv2.COLOR_BGR2GRAY)\n",
    "      gray_frame = cv2.GaussianBlur(gray_frame, (9, 9), 0)\n",
    "\n",
    "      if key==ord('c'):\n",
    "        #mask_name = f\"img/{letter}/{temp}_mask.png\"\n",
    "        img_name = f\"img/{letter}/{temp}.png\"\n",
    "        print(img_name)\n",
    "        #cv2.imwrite(mask_name, thresholded)\n",
    "        cv2.imwrite(img_name,ROI)\n",
    "        temp += 1\n",
    "\n",
    "      cv2.rectangle(frame.copy(),(0,0),(300,300),(0,255,0),2) \n",
    "      num_frames += 1\n",
    "      cv2.imshow(\"Cam\", frame.copy())\n",
    "      \n",
    "      if key==ord('q'):\n",
    "        break\n",
    "\n",
    "    if cv2.waitKey(10) & 0xFF == ord('q'):\n",
    "        break\n",
    "\n",
    "  cam.release()\n",
    "  cv2.destroyAllWindows()"
   ]
  },
  {
   "cell_type": "code",
   "execution_count": 27,
   "metadata": {},
   "outputs": [],
   "source": [
    "main('A')"
   ]
  }
 ],
 "metadata": {
  "interpreter": {
   "hash": "8a429bfa44b94ce18482ef57bc2c115d784d9458c6b4d87e77d5fc15095af8a9"
  },
  "kernelspec": {
   "display_name": "Python 3.10.2 64-bit",
   "language": "python",
   "name": "python3"
  },
  "language_info": {
   "codemirror_mode": {
    "name": "ipython",
    "version": 3
   },
   "file_extension": ".py",
   "mimetype": "text/x-python",
   "name": "python",
   "nbconvert_exporter": "python",
   "pygments_lexer": "ipython3",
   "version": "3.10.2"
  },
  "orig_nbformat": 4
 },
 "nbformat": 4,
 "nbformat_minor": 2
}
